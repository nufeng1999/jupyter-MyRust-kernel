{
 "cells": [
  {
   "cell_type": "code",
   "execution_count": null,
   "metadata": {},
   "outputs": [],
   "source": [
    "// 创建 flutter desktop app for linux 项目\n",
    "//%noruncode\n",
    "// %command:flutter config --enable-linux-desktop\n",
    "//%command:flutter config --enable-windows-desktop \n",
    "//%command:flutter devices\n",
    "//%command:flutter create --platforms=windows app1\n",
    "//%command:flutter run "
   ]
  },
  {
   "cell_type": "code",
   "execution_count": 2,
   "metadata": {},
   "outputs": [
    {
     "name": "stdout",
     "output_type": "stream",
     "text": [
      "[MyDart Kernel] Info:h:\\Jupyter\\ipynb\\MyDart\\tmpxjnfk3r3.bat\n",
      "[MyDart Kernel] Info:cmd /c start h:\\Jupyter\\ipynb\\MyDart\\tmpxjnfk3r3.bat \n",
      "[MyDart Kernel] Info:The process end:15592\n"
     ]
    }
   ],
   "source": [
    "// 创建 flutter desktop app for linux 项目\n",
    "//%noruncode\n",
    "//%runinterm\n",
    "//%term:cmd /c start \n",
    "//%command: cd app1 & flutter run"
   ]
  }
 ],
 "metadata": {
  "kernelspec": {
   "display_name": "MyDart",
   "language": "dart",
   "name": "mydart"
  },
  "language_info": {
   "file_extension": ".dart",
   "mimetype": "text/dart",
   "name": "dart"
  },
  "orig_nbformat": 4
 },
 "nbformat": 4,
 "nbformat_minor": 2
}
