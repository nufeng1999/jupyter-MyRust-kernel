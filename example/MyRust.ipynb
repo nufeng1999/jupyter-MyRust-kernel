{
 "cells": [
  {
   "cell_type": "code",
   "execution_count": 1,
   "metadata": {},
   "outputs": [
    {
     "name": "stdout",
     "output_type": "stream",
     "text": [
      "[MyRust Kernel] Info:file h:\\Jupyter\\ipynb\\MyRust\\src/test.rs created successfully\n",
      "[MyRust Kernel] Info:Generating executable file\n",
      "[MyRust Kernel] Info:rustc h:\\Jupyter\\ipynb\\MyRust\\src/test.rs -o src/test.exe \n",
      "[MyRust Kernel] Info:The process end:15996\n",
      "[MyRust Kernel] Info:The process :h:\\Jupyter\\ipynb\\MyRust\\src/test.exe\n",
      "[MyRust Kernel] Info:h:\\Jupyter\\ipynb\\MyRust\\tmpd2y8z9m5.bat\n",
      "[MyRust Kernel] Info:c:\\Windows\\System32\\cmd.exe /c start h:\\Jupyter\\ipynb\\MyRust\\tmpd2y8z9m5.bat \n",
      "[MyRust Kernel] Info:The process end:9148\n"
     ]
    }
   ],
   "source": [
    "//---------------------------\n",
    "//%runinterm\n",
    "//%term:c:\\Windows\\System32\\cmd.exe /c start \n",
    "//%cflags: -o src/test.exe\n",
    "///%ldflags:\n",
    "//----------------------------------\n",
    "//%overwritefile\n",
    "//%file:src/test.rs\n",
    "///%noruncode\n",
    "//%log:1\n",
    "//----------------------------------\n",
    "\n",
    "fn main() {\n",
    "    println!(\"Hello, world!\");\n",
    "}"
   ]
  },
  {
   "cell_type": "code",
   "execution_count": null,
   "metadata": {},
   "outputs": [],
   "source": []
  }
 ],
 "metadata": {
  "kernelspec": {
   "display_name": "MyRust",
   "language": "rust",
   "name": "myrust"
  },
  "language_info": {
   "name": "rust"
  },
  "orig_nbformat": 4
 },
 "nbformat": 4,
 "nbformat_minor": 2
}
