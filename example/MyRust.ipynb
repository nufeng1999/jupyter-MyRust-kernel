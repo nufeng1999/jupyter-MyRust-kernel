{
 "cells": [
  {
   "cell_type": "code",
   "execution_count": null,
   "metadata": {},
   "outputs": [],
   "source": [
    "//---------------------------\n",
    "// %runinterm\n",
    "//%term:c:\\Windows\\System32\\cmd.exe /c start \n",
    "//%cflags: -o src/test.exe\n",
    "///%ldflags:\n",
    "//----------------------------------\n",
    "//%overwritefile\n",
    "//%file:src/test.rs\n",
    "///%noruncode\n",
    "//%log:0\n",
    "//----------------------------------\n",
    "\n",
    "fn main() {\n",
    "    println!(\"你好, rust’s world!\");\n",
    "}"
   ]
  },
  {
   "cell_type": "code",
   "execution_count": null,
   "metadata": {},
   "outputs": [],
   "source": [
    "//---------------------------\n",
    "// %runinterm\n",
    "//%term:c:\\Windows\\System32\\cmd.exe /c start \n",
    "//%cflags: -o src/test.exe\n",
    "///%ldflags:\n",
    "//----------------------------------\n",
    "//%overwritefile\n",
    "//%file:src/test.rs\n",
    "///%noruncode\n",
    "//%log:0\n",
    "//----------------------------------\n",
    "use std::f64::consts::PI;\n",
    "\n",
    "fn main() {\n",
    "    println!(\"{}\", (PI / 2.0).sin());\n",
    "}"
   ]
  },
  {
   "cell_type": "code",
   "execution_count": null,
   "metadata": {},
   "outputs": [],
   "source": [
    "// ---------------------------\n",
    "// %runinterm\n",
    "//%term:c:\\Windows\\System32\\cmd.exe /c start \n",
    "// 输出文件\n",
    "//%cflags:-o src/test.exe\n",
    "// 依赖项目录\n",
    "//%ldflags:-L H:\\Jupyter\\ipynb\\MyRust\\hello_world\\target\\debug\\deps\n",
    "// ----------------------------------\n",
    "// 覆盖保存为文件\n",
    "//%overwritefile\n",
    "//%file:src/main.rs\n",
    "// %noruncode\n",
    "//%log:1\n",
    "// %outencode:UTF-8\n",
    "// ----------------------------------\n",
    "extern crate encoding;\n",
    "use encoding::{DecoderTrap, Encoding};\n",
    "use encoding::all::GBK;\n",
    "use std::process::Command;\n",
    "// use std::process::{Command, Stdio};\n",
    "fn main() {\n",
    "    // cmd_str可以是从输入流读取或从文件里读取\n",
    "    // let cmd_str: String;\n",
    "    // if cfg!(target_os = \"windows\") {\n",
    "        // 这里不用\\\\而是/的话会被windows认为/tmp的/t是一个option而报错\n",
    "        // cmd_str = \"dir d:\\\\\".to_string();\n",
    "    // } else {\n",
    "    //     cmd_str = \"dir /usr/tmp\".to_string();\n",
    "    // }\n",
    "\n",
    "    // let output = if cfg!(target_os = \"windows\") {\n",
    "        // let output =Command::new(\"cmd\").arg(\"/c\").arg(\"dir d:\\\\\").output().expect(\"cmd exec error!\");\n",
    "        // let output =Command::new(\"cmd\").args(&[\"/c\",\"echo\",\"hello world\"]).output().expect(\"cmd exec error!\");\n",
    "        let output =Command::new(\"cmd\").args(&[\"/c\",\"dir\", \"d:\\\\\"]).output().expect(\"cmd exec error!\");\n",
    "    // } else {\n",
    "    //     Command::new(\"sh\").arg(\"-c\").arg(cmd_str).output().expect(\"sh exec error!\");\n",
    "    // }\n",
    "\n",
    "    // let output_str = String::from_utf8_lossy(&output.stdout);\n",
    "    let output_str = GBK.decode(&output.stdout, DecoderTrap::Strict).unwrap();\n",
    "    println!(\"{}\", output_str);\n",
    "\n",
    "    // println!(\"status: {}\", output.status);\n",
    "    // println!(\"stdout: {}\", String::from_utf8_lossy(&output.stdout));\n",
    "    // println!(\"stderr: {}\", String::from_utf8_lossy(&output.stderr));\n",
    "    \n",
    "    // assert!(output.status.success());\n",
    "\n",
    "    // let output = Command::new(\"cmd\").arg(\"/c\").arg(\"echo\")\n",
    "    // .arg(\"Hello, world!\")\n",
    "    // .stdout(Stdio::piped())\n",
    "    // .output()\n",
    "    // .expect(\"Failed to execute command\");\n",
    "    // assert_eq!(String::from_utf8_lossy(&output.stdout), \"Hello, world!\\n\");\n",
    "\n",
    "    // let output = Command::new(\"cmd\")\n",
    "    // .args(&[\"/c\",\"echo\",\"hello world\"])\n",
    "    // .spawn()\n",
    "    // .expect(\"failed to execute process\");\n",
    "    // println!(\"{:?}\", output);\n",
    "}"
   ]
  },
  {
   "cell_type": "code",
   "execution_count": null,
   "metadata": {},
   "outputs": [],
   "source": [
    "//%noruncode\n",
    "// %runinterm\n",
    "//%term:c:\\Windows\\System32\\cmd.exe /c start \n",
    "//%cwd:H:\\Jupyter\\ipynb\\MyRust\\hello_world\n",
    "// %kcmd:list\n",
    "//%cargo:build"
   ]
  },
  {
   "cell_type": "code",
   "execution_count": null,
   "metadata": {},
   "outputs": [],
   "source": [
    "//%noruncode\n",
    "//%runinterm\n",
    "//%term:c:\\Windows\\System32\\cmd.exe /c start \n",
    "//%cwd:H:\\Jupyter\\ipynb\\MyRust\\hello_world \n",
    "// %kcmd:list\n",
    "//%cargo:run"
   ]
  },
  {
   "cell_type": "code",
   "execution_count": null,
   "metadata": {},
   "outputs": [],
   "source": []
  }
 ],
 "metadata": {
  "kernelspec": {
   "display_name": "MyRust",
   "language": "rust",
   "name": "myrust"
  },
  "language_info": {
   "name": "rust"
  },
  "orig_nbformat": 4
 },
 "nbformat": 4,
 "nbformat_minor": 2
}
