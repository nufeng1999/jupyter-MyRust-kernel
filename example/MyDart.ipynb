{
 "cells": [
  {
   "cell_type": "code",
   "execution_count": 1,
   "id": "ccbcf22d-20e4-48cd-9446-8a5126637d73",
   "metadata": {},
   "outputs": [
    {
     "data": {
      "text/plain": [
       "hello word!\r\n",
       "true\r\n"
      ]
     },
     "metadata": {
      "text/plain": {}
     },
     "output_type": "display_data"
    },
    {
     "data": {
      "text/plain": [
       "[1001, 2748]\r\n",
       "[21200.0]\r\n"
      ]
     },
     "metadata": {
      "text/plain": {}
     },
     "output_type": "display_data"
    }
   ],
   "source": [
    "//%overwritefile\n",
    "//%file:src/hello.dart\n",
    "//%log:0\n",
    "\n",
    "void main() {\n",
    "  print('hello word!');\n",
    "\n",
    "// final a1 = [11 , 22];\n",
    "// final a2 = [11 , 22];\n",
    "// print(identical(a1, a2));\n",
    "\n",
    "const a1 = [11 , 22];\n",
    "const a2 = [11 , 22];\n",
    "print(identical(a1, a2));\n",
    "\n",
    "int a = 1001;\n",
    "int b = 0xABC;\n",
    "print([a, b]);\n",
    "num a11 = 21.2e3;\n",
    "print([a11]);\n",
    "\n",
    "}\n"
   ]
  },
  {
   "cell_type": "code",
   "execution_count": null,
   "id": "8b152e3f-39af-4579-9bf0-ed609d7a6f98",
   "metadata": {},
   "outputs": [],
   "source": [
    "//%log:1\n",
    "// string -> int\n",
    "// string -> double\n",
    "//%overwritefile\n",
    "//%file:src/test.dart\n",
    "int a = int.parse('123');\n",
    "double b = double.parse('1.223');\n",
    "\n",
    "// // int -> string\n",
    "// // double -> string\n",
    "// String a = 123.toString();\n",
    "// String b = 1.223.toString();\n",
    "print([a, b]);\n",
    "print(\"中文测试\");\n",
    "// // double -> int\n",
    "// double a = 1.8;\n",
    "// int b = a.toInt();\n",
    "// print(b);"
   ]
  },
  {
   "cell_type": "code",
   "execution_count": null,
   "id": "fcf03a3f",
   "metadata": {},
   "outputs": [],
   "source": [
    "\n",
    "class IOSPhone {\n",
    "  call(String num) {\n",
    "    print('phone number is $num');\n",
    "  }\n",
    "}\n",
    "\n",
    "main(List<String> args) {\n",
    "  var phone = IOSPhone();\n",
    "  phone('911');\n",
    "\n",
    "  // IOSPhone()('911');\n",
    "}"
   ]
  },
  {
   "cell_type": "code",
   "execution_count": null,
   "id": "3eaa655e",
   "metadata": {},
   "outputs": [],
   "source": [
    "//%log:0\n",
    "//%overwritefile\n",
    "//%file:src/isolatetest.dart\n",
    "import 'dart:async';\n",
    "import 'dart:isolate';\n",
    "//第2步：定义隔离线程的入口点\n",
    "echo(SendPort sendPort) async {\n",
    "  //第4步：编写回调Port\n",
    "  var port = new ReceivePort();\n",
    "\n",
    "  //第5步：告诉主线程回调入口点\n",
    "  sendPort.send(port.sendPort);\n",
    "\n",
    "  //第8步：循环接收消息\n",
    "  await for (var msg in port) {\n",
    "    //数组 msg[0] 是数据\n",
    "    var data = msg[0];\n",
    "    //数组 msg[1] 是发送方Port\n",
    "    SendPort replyTo = msg[1];\n",
    "    //回传发送方 数据\n",
    "    replyTo.send(data);\n",
    "    //如果数据时 bar 关闭当前回调\n",
    "    if (data == \"bar\") port.close();\n",
    "  }\n",
    "}\n",
    "\n",
    "/*\n",
    "主线程 发送消息函数\n",
    "数组 msg[0] 是数据\n",
    "数组 msg[1] 是发送方Port\n",
    "返回 隔离线程 Port\n",
    "*/\n",
    "Future sendReceive(SendPort port, msg) {\n",
    "  ReceivePort response = new ReceivePort();\n",
    "  port.send([msg, response.sendPort]);\n",
    "  return response.first;\n",
    "}\n",
    "\n",
    "//第1步：定义主线程\n",
    "main() async {\n",
    "  //第3步：编写回调Port\n",
    "  var receivePort = new ReceivePort();\n",
    "  await Isolate.spawn(echo, receivePort.sendPort);\n",
    "\n",
    "  //第6步：保存隔离线程回调Port\n",
    "  var sendPort = await receivePort.first;\n",
    "  \n",
    "\t//第7步：发送消息\n",
    "  var msg = await sendReceive(sendPort, \"foo\");\n",
    "  print('received $msg');\n",
    "  msg = await sendReceive(sendPort, \"bar\");\n",
    "  print('received $msg');\n",
    "}"
   ]
  },
  {
   "cell_type": "code",
   "execution_count": null,
   "id": "48085898",
   "metadata": {},
   "outputs": [],
   "source": [
    "//%log:1\n",
    "\n",
    "var a = 'hello word \\n this is multi line';\n",
    "print(a);\n",
    "print(a.substring(0,5));\n",
    "var b = a.split(' ');\n",
    "print(b.length);\n",
    "print(b[0]);\n",
    "\n",
    "\n",
    "print('hello word word!'.replaceAll('word', 'ducafecat'));\n",
    "var sb = StringBuffer();\n",
    "sb..write('hello word!')\n",
    "..write('my')\n",
    "..write(' ')\n",
    "..writeAll(['web', 'site', 'https://ducafecat.tech']);\n",
    "print(sb.toString());\n",
    "\n",
    "\n",
    "var d1 = new DateTime(2018, 10, 1);\n",
    "var d2 = new DateTime(2018, 10, 10);\n",
    "print(d1.isAfter(d2));\n",
    "print(d1.isBefore(d2));\n",
    " d1 = DateTime.now();\n",
    " d2 = d1.add(new Duration(milliseconds: 30));\n",
    "print(d1.isAtSameMomentAs(d2));\n"
   ]
  },
  {
   "cell_type": "code",
   "execution_count": 1,
   "id": "4637b4e8",
   "metadata": {},
   "outputs": [
    {
     "name": "stdout",
     "output_type": "stream",
     "text": [
      "[MyDart Kernel] Info:The process :h:\\Jupyter\\ipynb\\MyDart\\tmp0bxwkdru.dart\n",
      "[MyDart Kernel] Info:The process :h:\\Jupyter\\ipynb\\MyDart\\tmp0bxwkdru.dart\n",
      "[MyDart Kernel] Info:dart --verbose h:\\Jupyter\\ipynb\\MyDart\\tmp0bxwkdru.dart \n"
     ]
    },
    {
     "data": {
      "text/plain": [
       "1640523941101\r\n"
      ]
     },
     "metadata": {
      "text/plain": {}
     },
     "output_type": "display_data"
    },
    {
     "data": {
      "text/plain": [
       "bbb\r\n",
       "1640523946114\r\n"
      ]
     },
     "metadata": {
      "text/plain": {}
     },
     "output_type": "display_data"
    },
    {
     "name": "stdout",
     "output_type": "stream",
     "text": [
      "[MyDart Kernel] Info:The process end:7908\n"
     ]
    }
   ],
   "source": [
    "void main() async{\n",
    "  print(DateTime.now().millisecondsSinceEpoch);\n",
    "  await b();\n",
    "  print(DateTime.now().millisecondsSinceEpoch);\n",
    "}\n",
    "\n",
    "Future b() async{\n",
    "  await Future.delayed(Duration(seconds: 5));\n",
    "  print('bbb');\n",
    "  return null;\n",
    "}"
   ]
  },
  {
   "cell_type": "code",
   "execution_count": 10,
   "id": "fe38f1a1",
   "metadata": {},
   "outputs": [
    {
     "data": {
      "text/plain": [
       "hello world\r\n"
      ]
     },
     "metadata": {
      "text/plain": {}
     },
     "output_type": "display_data"
    }
   ],
   "source": [
    "//%log:0\n",
    "//mdf:src/future.md\n",
    "//#### Future 例子   \n",
    "//例子一   \n",
    "//例子二   \n",
    "//```dart\n",
    "import 'dart:async';\n",
    "void main() {\n",
    "  Future.wait([\n",
    "    // 2秒后返回结果\n",
    "    Future.delayed(new Duration(seconds: 2), () {\n",
    "      return \"hello\";\n",
    "    }),\n",
    "    // 4秒后返回结果\n",
    "    Future.delayed(new Duration(seconds: 4), () {\n",
    "      return \" world\";\n",
    "    })\n",
    "  ]).then((results) {\n",
    "    // 上面的两个任务执行完毕后进入\n",
    "    print(results[0]+results[1]);\n",
    "  }).catchError((e){\n",
    "    // 执行失败会走到这里\n",
    "    print(e);\n",
    "  }).whenComplete((){\n",
    "    // 无论成功或失败都会走到这里\n",
    "  });\n",
    "}\n",
    "//```\n",
    "//mdfend\n"
   ]
  },
  {
   "cell_type": "code",
   "execution_count": null,
   "id": "b2214d5f",
   "metadata": {},
   "outputs": [],
   "source": []
  }
 ],
 "metadata": {
  "interpreter": {
   "hash": "38bff49347d1e315ffe4e438ca69c956c90694fd6c920dd305da3d1e99520bc7"
  },
  "kernelspec": {
   "display_name": "MyDart",
   "language": "dart",
   "name": "mydart"
  },
  "language_info": {
   "file_extension": ".dart",
   "mimetype": "text/dart",
   "name": "text/dart"
  },
  "widgets": {
   "application/vnd.jupyter.widget-state+json": {
    "state": {},
    "version_major": 2,
    "version_minor": 0
   }
  }
 },
 "nbformat": 4,
 "nbformat_minor": 5
}
