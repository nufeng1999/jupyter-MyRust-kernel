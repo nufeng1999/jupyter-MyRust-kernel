{
 "cells": [
  {
   "cell_type": "code",
   "execution_count": 1,
   "id": "9f39192c-3d08-4c03-ba00-b5387d430ced",
   "metadata": {
    "jupyter": {
     "source_hidden": true
    },
    "tags": []
   },
   "outputs": [
    {
     "name": "stdout",
     "output_type": "stream",
     "text": [
      "test\n",
      "\n",
      "true\n",
      "\n"
     ]
    }
   ],
   "source": [
    "//%args: --mode test\n",
    "//%file:\n",
    "import 'package:args/args.dart';\n",
    "void main(List<String> args){\n",
    "    var parser = ArgParser();\n",
    "    parser.addOption('mode');\n",
    "    parser.addFlag('verbose', defaultsTo: true);\n",
    "    var results = parser.parse(args);\n",
    "\n",
    "    print('${results['mode']}\\n'); // debug\n",
    "    print('${results['verbose']}\\n'); // true\n",
    "}"
   ]
  },
  {
   "cell_type": "code",
   "execution_count": 2,
   "id": "fdf81ad1-8262-4104-b849-cdd504591e9d",
   "metadata": {},
   "outputs": [
    {
     "name": "stdout",
     "output_type": "stream",
     "text": [
      "---------\n",
      "hello 0\n",
      "---------\n",
      "hello 1\n",
      "---------\n",
      "hello 2\n",
      "---------\n",
      "hello 3\n"
     ]
    }
   ],
   "source": [
    "//%cflags: --verbosity all\n",
    "//%file:test1.dart\n",
    "  for (var i = 0; i < 4; i++) {\n",
    "    print(\"---------\");\n",
    "    print('hello $i');\n",
    "  }\n",
    "\n"
   ]
  },
  {
   "cell_type": "code",
   "execution_count": 3,
   "id": "e6c6b1ed-c8aa-423a-9b3b-7bda5713f320",
   "metadata": {},
   "outputs": [
    {
     "name": "stderr",
     "output_type": "stream",
     "text": [
      "[Dart kernel] Warning: no file name parameter"
     ]
    }
   ],
   "source": [
    "//file:test3.dart\n",
    "//%norun:true\n",
    "  for (var i = 0; i < 4; i++) {\n",
    "    print(\"---------\");\n",
    "    print('hello $i');\n",
    "  }"
   ]
  },
  {
   "cell_type": "code",
   "execution_count": null,
   "id": "75718e0e-b732-45f6-ba3a-256e98fe2a41",
   "metadata": {},
   "outputs": [],
   "source": []
  }
 ],
 "metadata": {
  "kernelspec": {
   "display_name": "MyDart",
   "language": "dart",
   "name": "mydart"
  },
  "language_info": {
   "file_extension": ".dart",
   "mimetype": "text/x-csrc",
   "name": "dart"
  }
 },
 "nbformat": 4,
 "nbformat_minor": 5
}
